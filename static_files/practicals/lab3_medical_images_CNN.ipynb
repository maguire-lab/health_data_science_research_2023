{
 "cells": [
  {
   "cell_type": "raw",
   "id": "64c61a4a",
   "metadata": {},
   "source": [
    "---\n",
    "title: \"lab 3 medical imaging\"\n",
    "author: \"Sheida Majouni & Finlay Maguire\"\n",
    "date: \"2023-05-30\"\n",
    "output: html_document\n",
    "---"
   ]
  },
  {
   "cell_type": "code",
   "execution_count": null,
   "id": "900854d0",
   "metadata": {
    "name": "setup",
    "tags": [
     "remove_cell"
    ]
   },
   "outputs": [],
   "source": [
    "knitr::opts_chunk$set(echo = TRUE)"
   ]
  },
  {
   "cell_type": "markdown",
   "id": "d534146b",
   "metadata": {
    "lines_to_next_cell": 0
   },
   "source": [
    "As we found for natural language processing, R is a little bit limited when it comes to deep neural networks. Unfortunately, these networks are the current gold-standard methods for medical image analysis. The ML/DL R packages that do exist provide interfaces (APIs) to libraries built in other languages like C/C++ and Java. This means there are a few “non-reproducible” installation and data gathering steps to run first. It also means there are a few “compromises” to get a practical that will A) be runnable B) actually complete within the allotted time and C) even vaguely works.\n",
    "Doing this on a full real dataset would likely follow a similar process (admittedly with more intensive training and more expressive architectures). Google colab running an R kernel hasn't proven a very effective alternative thus far either.\n",
    "\n",
    "# Install packages\n",
    "\n",
    "In this practical, we will be performing image classification on real medical images using the Torch deep learning library and several packages to manage and preprocess the images. We will utilize the following packages for our task:\n",
    "\n",
    "`gridExtra`: This package provides functions for arranging multiple plots in a grid layout, allowing us to visualize and compare our results effectively.\n",
    "\n",
    "`jpeg`: This package enables us to read and write JPEG images, which is a commonly used image format.\n",
    "\n",
    "`imager`: This package offers a range of image processing functionalities, such as loading, saving, resizing, and transforming images.\n",
    "\n",
    "`magick`: This package provides an interface to the ImageMagick library, allowing us to manipulate and process images using a wide variety of operations.\n",
    "\n",
    "To ensure that the required packages are available, we can install them using the `install.packages()` function. Additionally, some packages may require additional dependencies to be installed. In such cases, we can use the `BiocManager::install()` function from the Bioconductor project to install the necessary dependencies.\n",
    "\n",
    "Here is an example code snippet to install the required packages:\n",
    "you can uncomment the following code to install required packages"
   ]
  },
  {
   "cell_type": "code",
   "execution_count": null,
   "id": "faa361d2",
   "metadata": {},
   "outputs": [],
   "source": [
    "# Install necessary packages\n",
    "#install.packages(\"gridExtra\")\n",
    "#install.packages(\"jpeg\")\n",
    "#install.packages(\"imager\")\n",
    "#install.packages(\"magick\")\n",
    "\n",
    "# Install Bioconductor package (if not already installed)\n",
    "#if (!require(\"BiocManager\", quietly = TRUE))\n",
    "#    install.packages(\"BiocManager\")\n",
    "\n",
    "# Install EBImage package from Bioconductor\n",
    "#BiocManager::install(\"EBImage\")\n",
    "#install.packages(\"abind\")\n",
    "\n",
    "# Install torch, torchvision, and luz\n",
    "#install.packages(\"torch\")\n",
    "#install.packages(\"torchvision\")\n",
    "#install.packages(\"luz\")"
   ]
  },
  {
   "cell_type": "code",
   "execution_count": null,
   "id": "1e06535a",
   "metadata": {},
   "outputs": [],
   "source": [
    "# load packages\n",
    "library(ggplot2)\n",
    "library(gridExtra)\n",
    "library(imager)\n",
    "library(jpeg)\n",
    "library(magick)\n",
    "library(EBImage)\n",
    "library(grid)\n",
    "library(dplyr)\n",
    "library(abind)"
   ]
  },
  {
   "cell_type": "markdown",
   "id": "f89c0fda",
   "metadata": {},
   "source": [
    "# Diagnosing Pneumonia from Chest X-Rays\n",
    "## Parsing the data\n",
    "\n",
    "Today, we are going to look at a series of chest X-rays from children (from [this paper](https://www.cell.com/cell/fulltext/S0092-8674(18)30154-5)) and see if we can accurately diagnose pneumonia from them.  \n",
    "\n",
    "Chest X-ray images (anterior-posterior) were selected from retrospective cohorts of pediatric patients of one to five years old from Guangzhou Women and Children’s Medical Center, Guangzhou. All chest X-ray imaging was performed as part of patients’ routine clinical care. For the analysis of chest x-ray images, all chest radiographs were initially screened for quality control by removing all low quality or unreadable scans. The diagnoses for the images were then graded by two expert physicians before being cleared for inclusion. In order to account for any grading errors, the evaluation set was also checked by a third expert.\n",
    "\n",
    "We can download, unzip, then inspect the format of this dataset as follows:\n",
    "\n",
    "\"https://drive.google.com/file/d/1nRpVseeHpHfTN9x6yKw9EvU20XrkmT8A/view?usp=sharing\"\n",
    "\n",
    "you can **unzip** the file in a data directory, using the following code:\n",
    "*uncomment it*"
   ]
  },
  {
   "cell_type": "code",
   "execution_count": null,
   "id": "2dd66b3d",
   "metadata": {},
   "outputs": [],
   "source": [
    "# Specify the path to the zip file\n",
    "#zip_file <- \"data/lab3_chest_xray.zip\"\n",
    "\n",
    "# Specify the destination directory to extract the files\n",
    "#destination_dir <- \"data\"\n",
    "\n",
    "# Extract the zip file\n",
    "#unzip(zip_file, exdir = destination_dir)"
   ]
  },
  {
   "cell_type": "markdown",
   "id": "3cc8ac38",
   "metadata": {},
   "source": [
    "As with every data analysis, the first thing we need to do is learn about our data. If we are diagnosing pneumonia, we should use the internet to better understand what pneumonia actually is and what types of pneumonia exist.\n",
    "\n",
    "**0_** What is pneumonia and what is the point/benefit of being able to identify it from X-rays automatically?\n",
    "\n",
    "# Exploring dataset\n",
    "\n",
    "In the provided code snippet, we are exploring the dataset directory structure for a chest x-ray image classification task. "
   ]
  },
  {
   "cell_type": "code",
   "execution_count": null,
   "id": "0f855721",
   "metadata": {},
   "outputs": [],
   "source": [
    "data_folder = \"data/lab3_chest_xray\"\n",
    "\n",
    "files <- list.files(data_folder, full.names=TRUE, recursive=TRUE)\n",
    "sort(sample(files, 20))"
   ]
  },
  {
   "cell_type": "markdown",
   "id": "3644e8a4",
   "metadata": {},
   "source": [
    "In the output above, you can see the filenames for all the chest X-rays. Look carefully at the filenames for the X-rays showing pneumonia (i.e., those in `{train,test}/PNEUMONIA`).\n",
    "\n",
    "**1_** Do these filenames tell you anything about pneumonia? Why might this make predicting pneumonia more challenging?"
   ]
  },
  {
   "cell_type": "markdown",
   "id": "b4187386",
   "metadata": {},
   "source": [
    "The dataset folder is assumed to contain three subfolders: train, test, and validate. Each of these subfolders further contains two folders representing the two classes or labels in our classification task: \"normal\" and \"pneumonia\".\n",
    "The code provides a way to explore the dataset directory structure and obtain information about the number of images and their distribution across different classes. This information can be helpful in understanding the dataset and planning the subsequent steps of the image classification task."
   ]
  },
  {
   "cell_type": "code",
   "execution_count": null,
   "id": "be033b6c",
   "metadata": {
    "lines_to_next_cell": 0
   },
   "outputs": [],
   "source": [
    "# Exploring dataset\n",
    "base_dir <- \"data/lab3_chest_xray\"\n",
    "\n",
    "train_pneumonia_dir <- file.path(base_dir, \"train\", \"PNEUMONIA\")\n",
    "train_normal_dir <- file.path(base_dir, \"train\", \"NORMAL\")\n",
    "\n",
    "test_pneumonia_dir <- file.path(base_dir, \"test\", \"PNEUMONIA\")\n",
    "test_normal_dir <- file.path(base_dir, \"test\", \"NORMAL\")\n",
    "\n",
    "val_normal_dir <- file.path(base_dir, \"validate\", \"NORMAL\")\n",
    "val_pneumonia_dir <- file.path(base_dir, \"validate\", \"PNEUMONIA\")\n",
    "\n",
    "train_pn <- list.files(train_pneumonia_dir, full.names = TRUE)\n",
    "train_normal <- list.files(train_normal_dir, full.names = TRUE)\n",
    "\n",
    "test_normal <- list.files(test_normal_dir, full.names = TRUE)\n",
    "test_pn <- list.files(test_pneumonia_dir, full.names = TRUE)\n",
    "\n",
    "val_pn <- list.files(val_pneumonia_dir, full.names = TRUE)\n",
    "val_normal <- list.files(val_normal_dir, full.names = TRUE)\n",
    "\n",
    "cat(\"Total Images:\", length(c(train_pn, train_normal, test_normal, test_pn, val_pn, val_normal)), \"\\n\")\n",
    "cat(\"Total Pneumonia Images:\", length(c(train_pn, test_pn, val_pn)), \"\\n\")\n",
    "cat(\"Total Normal Images:\", length(c(train_normal, test_normal, val_normal)), \"\\n\")\n"
   ]
  },
  {
   "cell_type": "markdown",
   "id": "66b6f408",
   "metadata": {
    "lines_to_next_cell": 0
   },
   "source": [
    "# Creating training datasets\n",
    "\n",
    "The provided code segment focuses on creating datasets for training, testing, and validation, as well as assigning labels to the corresponding datasets. Additionally, the code shuffles the data to introduce randomness in the order of the samples. Here's a breakdown of the code:\n",
    "\n",
    "`train_dataset`: Combines the lists `train_pn` and `train_normal` to create a single dataset for training.\n",
    "\n",
    "`train_labels`: Creates a vector of labels for the training dataset by repeating \"pneumonia\" for the length of `train_pn` and \"normal\" for the length of `train_normal`.\n",
    "\n",
    "`shuffled_train_dataset`, `shuffled_train_labels`: Extracts the shuffled training dataset and labels from the shuffled `train_data` data frame.\n",
    "\n",
    "By creating datasets and assigning labels, this code prepares the data for subsequent steps, such as model training and evaluation. The shuffling of the data ensures that the samples are presented in a random order during training, which can help prevent any biases or patterns that may exist in the original dataset."
   ]
  },
  {
   "cell_type": "code",
   "execution_count": null,
   "id": "1acaf7e7",
   "metadata": {},
   "outputs": [],
   "source": [
    "train_dataset <- c(train_pn, train_normal)\n",
    "train_labels <- c(rep(\"pneumonia\", length(train_pn)), rep(\"normal\", length(train_normal)))\n",
    "\n",
    "test_dataset <- c(test_pn, test_normal)\n",
    "test_labels <- c(rep(\"pneumonia\", length(test_pn)), rep(\"normal\", length(test_normal)))\n",
    "\n",
    "val_dataset <- c(val_pn, val_normal)\n",
    "val_labels <- c(rep(\"pneumonia\", length(val_pn)), rep(\"normal\", length(val_normal)))\n",
    "\n",
    "# Create a data frame with the dataset and labels\n",
    "train_data <- data.frame(dataset = train_dataset, label = train_labels)\n",
    "test_data <- data.frame(dataset = test_dataset, label = test_labels)\n",
    "val_data <- data.frame(dataset = val_dataset, label = val_labels)\n",
    "\n",
    "# Shuffle the data frame\n",
    "train_data <- train_data[sample(nrow(train_data)), ]\n",
    "test_data <- test_data[sample(nrow(test_data)), ]\n",
    "val_data <- val_data[sample(nrow(val_data)), ]\n",
    "\n",
    "# Extract the shuffled dataset and labels\n",
    "shuffled_train_dataset <- train_data$dataset\n",
    "shuffled_train_labels <- train_data$label\n",
    "\n",
    "shuffled_test_dataset <- test_data$dataset\n",
    "shuffled_test_labels <- test_data$label\n",
    "\n",
    "shuffled_val_dataset <- val_data$dataset\n",
    "shuffled_val_labels <- val_data$label"
   ]
  },
  {
   "cell_type": "code",
   "execution_count": null,
   "id": "2fada0d5",
   "metadata": {},
   "outputs": [],
   "source": [
    "#showing a file name from test set\n",
    "cat(\"finle name: \", shuffled_train_dataset[5], \"\\nlabel: \", shuffled_train_labels[5])"
   ]
  },
  {
   "cell_type": "markdown",
   "id": "1c3b540f",
   "metadata": {},
   "source": [
    "# Data Visualization\n",
    "\n",
    "Let’s inspect a couple of these files as it is always worth looking directly at data."
   ]
  },
  {
   "cell_type": "code",
   "execution_count": null,
   "id": "103707cf",
   "metadata": {},
   "outputs": [],
   "source": [
    "# Create a list to store the ggplot objects\n",
    "plots <- list()\n",
    "\n",
    "# Iterate through the images and labels\n",
    "for (i in 1:4) {\n",
    "  \n",
    "  image <- readImage(shuffled_train_dataset[i])\n",
    "  \n",
    "  # Create a ggplot object for the image with the corresponding label\n",
    "  plot <- ggplot() +\n",
    "    theme_void() +\n",
    "    annotation_custom(\n",
    "      rasterGrob(image, interpolate = TRUE),\n",
    "      xmin = -Inf, xmax = Inf, ymin = -Inf, ymax = Inf\n",
    "    )\n",
    "  \n",
    "  # Add the ggplot object to the list\n",
    "  plots[[i]] <- plot\n",
    "}\n",
    "\n",
    "# Arrange the plots in a 2x2 grid\n",
    "grid.arrange(grobs = plots, nrow = 2, ncol = 2)"
   ]
  },
  {
   "cell_type": "markdown",
   "id": "e1d7299d",
   "metadata": {},
   "source": [
    "**2_** From looking at only 3 images do you see any attribute of the images that we may have to normalise before training a model?\n",
    "\n",
    "# Data Pre-processing\n",
    "\n",
    "The provided code segment presents a function called `process_images` that performs several preprocessing steps on the images. Here's an explanation of each preprocessing step and its purpose:\n",
    "\n",
    "1. Loading the \"imager\" library: This line imports the \"imager\" library, which provides functions for image processing.\n",
    "\n",
    "2. Setting the desired image size: The variable `img_size` is initialized to 224, indicating the desired size (both width and height) of the processed images. This step ensures that all images are resized to a consistent size.\n",
    "\n",
    "3. Initializing an empty list for processed images: The variable `X` is initialized as an empty list that will store the processed images.\n",
    "\n",
    "4. Looping through each image path: The function iterates over each image path in the `shuffled_dataset` input, which represents the paths to the shuffled images.\n",
    "\n",
    "5. Loading the image: The `imager::load.image()` function is used to read and load the image from its file path.\n",
    "\n",
    "6. Normalizing the image: The loaded image is divided by 255 to normalize its pixel values. This step scales the pixel values between 0 and 1, which is a common practice in image processing and deep learning.\n",
    "\n",
    "7. Resizing the image: The `resize()` function from the \"imager\" library is employed to resize the normalized image to the desired `img_size`. Resizing the images to a consistent size is important for ensuring compatibility with the subsequent steps of the deep learning pipeline.\n",
    "\n",
    "8. Appending the processed image to the list: The processed image, stored in the variable `img_resized`, is added to the `X` list using the `c()` function and the `list()` function. The resulting `X` list will contain all the processed images.\n",
    "\n",
    "9. Returning the processed images: Finally, the `X` list, which now holds the processed images, is returned as the output of the `process_images` function.\n",
    "\n",
    "These preprocessing steps are commonly performed in image classification tasks to prepare the images for training a deep learning model. Normalizing the pixel values and resizing the images ensure that they are in a consistent format and range, which facilitates the learning process of the model. Additionally, resizing the images to a fixed size allows for efficient batch processing and ensures that all images have the same dimensions, enabling them to be fed into the model's input layer."
   ]
  },
  {
   "cell_type": "code",
   "execution_count": null,
   "id": "c54d20e1",
   "metadata": {},
   "outputs": [],
   "source": [
    "process_images <- function(shuffled_dataset) {\n",
    "  \n",
    "  img_size <- 224  # Desired image size\n",
    "  \n",
    "  # Initialize an empty list to store processed images\n",
    "  X <- list()\n",
    "  \n",
    "  # Loop through each image path in shuffled_train_dataset\n",
    "  for (image_path in shuffled_dataset) {\n",
    "    # Read the image\n",
    "    img <- imager::load.image(image_path)\n",
    "    \n",
    "    # Normalize the image\n",
    "    img_normalized <- img / 255\n",
    "    \n",
    "    # Resize the image\n",
    "    img_resized <- resize(img_normalized, img_size, img_size)\n",
    "    \n",
    "    # Append the processed image to the list\n",
    "    X <- c(X, list(img_resized))\n",
    "  }\n",
    "  \n",
    "  return(X)\n",
    "}"
   ]
  },
  {
   "cell_type": "markdown",
   "id": "fb99bfe3",
   "metadata": {},
   "source": [
    "In this section, by using the process_images function we will do preprocessing on the training, testing, and validation images.\n",
    "\n",
    "Then we will encode the labels:\n",
    "The ifelse() function is utilized to encode the labels. If a label in shuffled_train_labels, shuffled_test_labels, or shuffled_val_labels is \"normal,\" it is assigned a value of 1. Otherwise, if the label is \"pneumonia,\" it is assigned a value of 2. This encoding scheme allows for easier handling of the labels in subsequent steps.\n",
    "\n",
    "Finally, We Convert labels to integer type:\n",
    "The labels are converted to the integer data type using the as.integer() function. This ensures that the labels are represented as integers, which is the expected format for the target tensor when using the nn_cross_entropy_loss function.\n",
    "\n",
    "It is important to note that when using the nn_cross_entropy_loss function in R, the target tensor is expected to have a \"long\" data type, which is equivalent to the integer type in R. Hence, the labels need to be converted to integers.\n",
    "\n",
    "Furthermore, when working with the Torch package in R, it is essential to ensure that labels start from 1 instead of 0. In binary classification problems, the labels should be 1 and 2, representing the two classes. This adjustment is necessary to avoid errors when using the labels as indices for the output tensor.\n"
   ]
  },
  {
   "cell_type": "code",
   "execution_count": null,
   "id": "5469af58",
   "metadata": {},
   "outputs": [],
   "source": [
    "train_X <- process_images(shuffled_train_dataset)\n",
    "test_X <- process_images(shuffled_test_dataset)\n",
    "val_X <- process_images(shuffled_val_dataset)\n",
    "\n",
    "train_y <- ifelse(shuffled_train_labels == \"normal\", 1, 2)\n",
    "test_y <- ifelse(shuffled_test_labels == \"normal\", 1, 2)\n",
    "val_y <- ifelse(shuffled_val_labels == \"normal\", 1, 2)\n",
    "\n",
    "train_y <- as.integer(train_y)\n",
    "test_y <- as.integer(test_y)\n",
    "val_y <- as.integer(val_y)"
   ]
  },
  {
   "cell_type": "markdown",
   "id": "3c3bae65",
   "metadata": {},
   "source": [
    "Now let's have an other look at images after doing pre processing."
   ]
  },
  {
   "cell_type": "code",
   "execution_count": null,
   "id": "4e6fc65b",
   "metadata": {},
   "outputs": [],
   "source": [
    "# Create a list to store the ggplot objects\n",
    "plots <- list()\n",
    "\n",
    "# Iterate through the images and labels\n",
    "for (i in 1:4) {\n",
    "  if (train_y[i] == 0) {\n",
    "    label <- \"Normal\"\n",
    "  } else {\n",
    "    label <- \"Pneumonia\"\n",
    "  }\n",
    "  \n",
    "  # Create a ggplot object for the image with the corresponding label\n",
    "  plot <- ggplot() +\n",
    "    theme_void() +\n",
    "    ggtitle(label) +\n",
    "    annotation_custom(\n",
    "      rasterGrob(train_X[[i]], interpolate = TRUE),\n",
    "      xmin = -Inf, xmax = Inf, ymin = -Inf, ymax = Inf\n",
    "    )\n",
    "  \n",
    "  # Add the ggplot object to the list\n",
    "  plots[[i]] <- plot\n",
    "}\n",
    "\n",
    "# Arrange the plots in a 2x2 grid\n",
    "grid.arrange(grobs = plots, nrow = 2, ncol = 2)"
   ]
  },
  {
   "cell_type": "markdown",
   "id": "860c9e68",
   "metadata": {},
   "source": [
    "Let's count and display the number of images in each dataset to examine the distribution of labels in the data. This will help us understand the ratio of \"normal\" and \"pneumonia\" labels in the dataset."
   ]
  },
  {
   "cell_type": "code",
   "execution_count": null,
   "id": "9a388ccc",
   "metadata": {
    "lines_to_next_cell": 0
   },
   "outputs": [],
   "source": [
    "# Combine train, test, and val vectors into a single data frame\n",
    "df <- data.frame(\n",
    "  Data = rep(c(\"Train\", \"Test\", \"Val\"), times = c(length(train_y), length(test_y), length(val_y))),\n",
    "  Value = c(train_y, test_y, val_y)\n",
    ")\n",
    "\n",
    "# Create a single bar plot with facets\n",
    "fig <- ggplot(df, aes(x = Value)) +\n",
    "  geom_bar() +\n",
    "  ylim(0, 510) +\n",
    "  facet_wrap(~Data, ncol = 3)\n",
    "\n",
    "# Arrange the plot\n",
    "grid.arrange(fig, nrow = 1)\n"
   ]
  },
  {
   "cell_type": "markdown",
   "id": "abe0a509",
   "metadata": {},
   "source": [
    "As you can see, the provided dataset is completely balanced in all sets.\n",
    "**3_** if the dataset was not balanced, what kind of techniques could be useful?\n",
    "\n",
    "# Trainig\n",
    "\n",
    "In the next step, we need to reshape the dataset to ensure it is in the appropriate format for feeding into deep learning models. Reshaping involves modifying the structure and dimensions of the data to match the expected input shape of the model. "
   ]
  },
  {
   "cell_type": "code",
   "execution_count": null,
   "id": "46967269",
   "metadata": {},
   "outputs": [],
   "source": [
    "train_X <- array(data = unlist(train_X), dim = c(1000, 224, 224, 1))\n",
    "test_X <- array(data = unlist(test_X), dim = c(200, 224, 224, 1))\n",
    "val_X <- array(data = unlist(val_X), dim = c(16, 224, 224, 1))"
   ]
  },
  {
   "cell_type": "code",
   "execution_count": null,
   "id": "314ca689",
   "metadata": {
    "lines_to_next_cell": 0
   },
   "outputs": [],
   "source": [
    "print(dim(train_X))\n",
    "print(length(train_y))\n",
    "print(dim(test_X))\n",
    "print(length(test_y))\n",
    "print(dim(val_X))\n",
    "print(length(val_y))"
   ]
  },
  {
   "cell_type": "markdown",
   "id": "e6dcdba6",
   "metadata": {},
   "source": [
    "The last dimension of an image represents the color channels, typically RGB (Red, Green, Blue) in color images or grayscale in black and white images. In our case, since we are working with black and white images, there is only one channel, hence the value 1.\n",
    "\n",
    "However, the deep learning framework expects the input tensor to have a specific shape, with the color channels as the second dimension. The desired shape is (batch_size x channels x height x width), but our current data has the shape (batch_size x height x width x channels).\n",
    "\n",
    "To rearrange the dimensions of our data to match the expected shape, we use the aperm function in R. The aperm function allows us to permute the dimensions of an array. In this case, we are permuting the dimensions of train_X to change the order of the dimensions, so that the channels dimension becomes the second dimension."
   ]
  },
  {
   "cell_type": "code",
   "execution_count": null,
   "id": "c20557ad",
   "metadata": {},
   "outputs": [],
   "source": [
    "train_X <- aperm(train_X, c(1,4,2,3))\n",
    "test_X <- aperm(test_X, c(1,4,2,3))\n",
    "val_X <- aperm(val_X,c(1,4,2,3))\n",
    "\n",
    "dim(train_X)"
   ]
  },
  {
   "cell_type": "markdown",
   "id": "a5eadde2",
   "metadata": {},
   "source": [
    "In order to train a Convolutional Neural Network (CNN), we will utilize the torch package in R. Torch is a powerful deep learning library that provides a wide range of functions and tools for building and training neural networks.\n",
    "\n",
    "CNNs are particularly effective for image-related tasks due to their ability to capture local patterns and spatial relationships within the data. Torch provides a high-level interface to define and train CNN models in R.\n",
    "\n",
    "By using torch, we can leverage its extensive collection of pre-built layers, loss functions, and optimization algorithms to construct our CNN architecture. We can define the network structure, specifying the number and size of convolutional layers, pooling layers, and fully connected layers."
   ]
  },
  {
   "cell_type": "code",
   "execution_count": null,
   "id": "65310756",
   "metadata": {},
   "outputs": [],
   "source": [
    "# Load the torch package\n",
    "library(torch)\n",
    "library(torchvision)\n",
    "library(luz)"
   ]
  },
  {
   "cell_type": "markdown",
   "id": "e0ded06f",
   "metadata": {},
   "source": [
    "In this code, we are defining a custom dataset class called \"ImageDataset\" to encapsulate our training, testing, and validation data. The purpose of the dataset class is to provide a structured representation of our data that can be easily consumed by deep learning models.\n",
    "\n",
    "The \"ImageDataset\" class has three main functions:\n",
    "1. \"initialize\": This function is called when creating an instance of the dataset class. It takes the input data (X) and labels (y) as arguments and stores them as tensors.\n",
    "2. \".getitem\": This function is responsible for retrieving a single sample and its corresponding label from the dataset. Given an index (i), it returns the i-th sample and label as tensors.\n",
    "3. \".length\": This function returns the total number of samples in the dataset.\n",
    "\n",
    "After defining the dataset class, we create instances of it for our training, testing, and validation data: \"train_dataset\", \"test_dataset\", and \"val_dataset\". We pass the respective input data and labels to each dataset instance.\n",
    "\n",
    "Next, we create dataloader objects for each dataset. A dataloader is an abstraction that allows us to efficiently load and iterate over the data in batches during the training process. The batch size (16 in this case) determines the number of samples that will be processed together in each iteration. It helps in optimizing memory usage and can speed up the training process by leveraging parallel computation.\n",
    "\n",
    "Finally, the code visualizes the size of the first batch by calling \"batch[[1]]$size()\". This can be useful for understanding the dimensions of the data and ensuring that the input shapes are consistent with the network architecture."
   ]
  },
  {
   "cell_type": "code",
   "execution_count": null,
   "id": "7208dfce",
   "metadata": {
    "lines_to_next_cell": 0
   },
   "outputs": [],
   "source": [
    "# Define a custom dataset class\n",
    "ImageDataset <- dataset(\n",
    "  name = \"ImageDataset\",\n",
    "  initialize = function(X, y) {\n",
    "    # Store the data as tensors\n",
    "    self$data <- torch_tensor(X)\n",
    "    self$labels <- torch_tensor(y)\n",
    "  },\n",
    "  .getitem = function(i) {\n",
    "    # Return a single sample and label\n",
    "    x <- self$data[i,,,]\n",
    "    y <- self$labels[i]\n",
    "    list(x = x, y = y)\n",
    "  },\n",
    "  .length = function() {\n",
    "    # Return the number of samples\n",
    "    dim(self$data)[1]\n",
    "  }\n",
    ")\n",
    "\n",
    "# Create a dataset object from your data\n",
    "train_dataset <- ImageDataset(train_X, train_y)\n",
    "test_dataset <- ImageDataset(test_X, test_y)\n",
    "val_dataset <- ImageDataset(val_X, val_y)\n",
    "\n",
    "# Create a dataloader object from your dataset\n",
    "train_dataloader <- dataloader(train_dataset, batch_size = 16)\n",
    "test_dataloader <- dataloader(test_dataset, batch_size = 16)\n",
    "val_dataloader <- dataloader(val_dataset, batch_size = 16)\n",
    "\n",
    "# Iterate over batches of data\n",
    "batch = train_dataloader$.iter()$.next()\n",
    "\n",
    "# Visualize the first batch size\n",
    "batch[[1]]$size()"
   ]
  },
  {
   "cell_type": "markdown",
   "id": "f920f560",
   "metadata": {},
   "source": [
    "## creat the CNN model\n",
    "\n",
    "The input image has one channel and a size of 224 x 224 pixels. The first convolutional layer has 32 filters with a kernel size of 3 x 3 and a stride of 1. The output of this layer has a size of 32 x 222 x 222. The second convolutional layer has 64 filters with the same kernel size and stride. The output of this layer has a size of 64 x 220 x 220. The max pooling layer has a kernel size of 2 x 2 and reduces the spatial dimensions by half. The output of this layer has a size of 64 x 110 x 110. The dropout layer randomly sets some elements to zero with a probability of 0.25. The flatten layer reshapes the output into a vector with a length of 774400. The first fully connected layer has 128 neurons and applies a ReLU activation function. The second dropout layer randomly sets some elements to zero with a probability of 0.5. The second fully connected layer has 2 neurons and produces the final output for the classification task.\n",
    "\n",
    "Input Image: 1 channel, 224 x 224\n",
    "\n",
    "| Layer Type    | Output Size    | Parameters      |\n",
    "| ------------- | -------------- | --------------- |\n",
    "| Conv2D        | 32 x 222 x 222 | 32 x 3 x 3      |\n",
    "|               |                | (weights)       |\n",
    "| Conv2D        | 64 x 220 x 220 | 64 x 3 x 3      |\n",
    "|               |                | (weights)       |\n",
    "| MaxPooling2D  | 64 x 110 x 110 | 2 x 2           |\n",
    "|               |                | (kernel size)   |\n",
    "| Dropout       | 64 x 110 x 110 | 0.25            |\n",
    "|               |                | (dropout rate)  |\n",
    "| Flatten       | 774400         | -               |\n",
    "| FullyConnected| 128            | -               |\n",
    "| (ReLU)        |                |                 |\n",
    "| Dropout       | 128            | 0.5             |\n",
    "|               |                | (dropout rate)  |\n",
    "| FullyConnected| 2              | -               |\n",
    "\n"
   ]
  },
  {
   "cell_type": "code",
   "execution_count": null,
   "id": "2732c89f",
   "metadata": {},
   "outputs": [],
   "source": [
    "net <- nn_module(\n",
    "  \"Net\",\n",
    "  \n",
    "  initialize = function() {\n",
    "    self$conv1 <- nn_conv2d(1, 32, 3, 1)\n",
    "    self$conv2 <- nn_conv2d(32, 64, 3, 1)\n",
    "    self$dropout1 <- nn_dropout2d(0.25)\n",
    "    self$dropout2 <- nn_dropout2d(0.5)\n",
    "    self$fc1 <- nn_linear(774400, 128)  # Adjust the input size based on your image dimensions\n",
    "    self$fc2 <- nn_linear(128, 2)             # Change the output size to match your classification task\n",
    "  },\n",
    "  \n",
    "  forward = function(x) {\n",
    "    x %>%                                        # N * 1 * 224 * 224\n",
    "      self$conv1() %>%                           # N * 32 * 222 * 222\n",
    "      nnf_relu() %>% \n",
    "      self$conv2() %>%                           # N * 64 * 220 * 220\n",
    "      nnf_relu() %>% \n",
    "      nnf_max_pool2d(2) %>%                      # N * 64 * 110 * 110\n",
    "      self$dropout1() %>% \n",
    "      torch_flatten(start_dim = 2) %>%           # N * 64 * 110 * 110 --> N * 774400\n",
    "      self$fc1() %>%                             # N * 128\n",
    "      nnf_relu() %>% \n",
    "      self$dropout2() %>% \n",
    "      self$fc2()                                 # N * 2 (change the output size to match your classification task)\n",
    "  }\n",
    ")\n"
   ]
  },
  {
   "cell_type": "markdown",
   "id": "253db0b1",
   "metadata": {},
   "source": [
    "## Train model"
   ]
  },
  {
   "cell_type": "code",
   "execution_count": null,
   "id": "dcfbbac4",
   "metadata": {
    "lines_to_next_cell": 0,
    "warning": false
   },
   "outputs": [],
   "source": [
    "# Set the number of epochs\n",
    "num_epochs <- 3\n",
    "\n",
    "train_loss <- numeric(num_epochs)\n",
    "train_acc <- numeric(num_epochs)\n",
    "test_loss <- numeric(num_epochs)\n",
    "test_acc <- numeric(num_epochs)\n",
    "\n",
    "# Loop through the epochs\n",
    "for (epoch in 1:num_epochs) {\n",
    "  # Perform training and validation for each epoch\n",
    "  fitted <- net %>%\n",
    "    setup(\n",
    "      loss = nn_cross_entropy_loss(),\n",
    "      optimizer = optim_adam,\n",
    "      metrics = list(\n",
    "        luz_metric_accuracy()\n",
    "      )\n",
    "    ) %>%\n",
    "    fit(train_dataloader, epochs = 1, valid_data = test_dataloader)\n",
    "  \n",
    "  # Print the metrics for the current epoch\n",
    "  cat(\"Epoch \", epoch, \"/\", num_epochs, \"\\n\")\n",
    "  cat(\"Train metrics: Loss: \", fitted$records$metrics$train[[1]]$loss, \" - Acc: \", fitted$records$metrics$train[[1]]$acc, \"\\n\")\n",
    "  cat(\"Valid metrics: Loss: \", fitted$records$metrics$valid[[1]]$loss, \" - Acc: \", fitted$records$metrics$valid[[1]]$acc, \"\\n\")\n",
    "  cat(\"\\n\")\n",
    "  \n",
    "  # Store the loss and accuracy values\n",
    "  train_loss[epoch] <- fitted$records$metrics$train[[1]]$loss\n",
    "  train_acc[epoch] <- fitted$records$metrics$train[[1]]$acc\n",
    "  test_loss[epoch] <- fitted$records$metrics$train[[1]]$loss\n",
    "  test_acc[epoch] <- fitted$records$metrics$valid[[1]]$acc\n",
    "}\n"
   ]
  },
  {
   "cell_type": "markdown",
   "id": "cdbbceb6",
   "metadata": {},
   "source": [
    "## Plot learning curves"
   ]
  },
  {
   "cell_type": "code",
   "execution_count": null,
   "id": "5f6c87c6",
   "metadata": {},
   "outputs": [],
   "source": [
    "# Plot the train and test loss\n",
    "loss_df <- data.frame(\n",
    "  Epoch = 1:num_epochs,\n",
    "  Train_Loss = train_loss,\n",
    "  Test_Loss = test_loss\n",
    ")\n",
    "loss_plot <- ggplot(data = loss_df) +\n",
    "  geom_line(aes(x = Epoch, y = Train_Loss, color = \"Train Loss\")) +\n",
    "  geom_line(aes(x = Epoch, y = Test_Loss, color = \"Test Loss\")) +\n",
    "  labs(x = \"Epoch\", y = \"Loss\") +\n",
    "  scale_color_manual(values = c(\"Train Loss\" = \"blue\", \"Test Loss\" = \"red\")) +\n",
    "  theme_minimal()\n",
    "\n",
    "# Plot the train and test accuracy\n",
    "acc_df <- data.frame(\n",
    "  Epoch = 1:num_epochs,\n",
    "  Train_Accuracy = train_acc,\n",
    "  Test_Accuracy = test_acc\n",
    ")\n",
    "acc_plot <- ggplot(data = acc_df) +\n",
    "  geom_line(aes(x = Epoch, y = Train_Accuracy, color = \"Train Accuracy\")) +\n",
    "  geom_line(aes(x = Epoch, y = Test_Accuracy, color = \"Test Accuracy\")) +\n",
    "  labs(x = \"Epoch\", y = \"Accuracy\") +\n",
    "  scale_color_manual(values = c(\"Train Accuracy\" = \"blue\", \"Test Accuracy\" = \"red\")) +\n",
    "  theme_minimal()\n",
    "\n",
    "# Print the plots\n",
    "print(loss_plot)\n",
    "print(acc_plot)"
   ]
  },
  {
   "cell_type": "markdown",
   "id": "db1e878a",
   "metadata": {},
   "source": [
    "**4_** Based on the training and test accuracy, is this model actually managing to classify X-rays into pneumonia vs normal? What do you think contributes to this? why?\n",
    "\n",
    "It seems that the model is not training effectively the model is struggling to learn from the data and is not generalizing well to unseen examples. It suggests that the model may be too complex or the training process needs adjustments.\n",
    "\n",
    "**5_** what is your suggestions to solve this problem? How could we improve this model?\n",
    "\n",
    "# Data Augmentation\n",
    "Data augmentation is one of the solutions to consider when facing training difficulties. Data augmentation involves applying various transformations or modifications to the existing training data, effectively expanding the dataset and introducing additional variations. This technique can help improve model performance and generalization by providing the model with more diverse examples to learn from.\n",
    "\n",
    "By applying data augmentation, we can create new training samples with slight modifications, such as random rotations, translations, flips, zooms, or changes in brightness and contrast. These modifications can mimic real-world variations and increase the model's ability to handle different scenarios. Data augmentation increased dataset size, improved generalization, and reduced overfitting.\n",
    "\n",
    "Below is an example that demonstrates how we can augment the data."
   ]
  },
  {
   "cell_type": "code",
   "execution_count": null,
   "id": "4056ccc1",
   "metadata": {},
   "outputs": [],
   "source": [
    "img <- readImage(shuffled_train_dataset[5])\n",
    "\n",
    "T_img <- torch_squeeze(torch_tensor(img)) %>% \n",
    "        # Randomly change the brightness, contrast and saturation of an image\n",
    "        transform_color_jitter() %>%\n",
    "        # Horizontally flip an image randomly with a given probability\n",
    "        transform_random_horizontal_flip() %>%\n",
    "        # Vertically flip an image randomly with a given probability\n",
    "        transform_random_vertical_flip(p = 0.5)\n",
    "\n",
    "image(as.array(T_img))"
   ]
  },
  {
   "cell_type": "markdown",
   "id": "2f215572",
   "metadata": {},
   "source": [
    "We can also add the data transofmrations to our dataloader:"
   ]
  },
  {
   "cell_type": "code",
   "execution_count": null,
   "id": "48d3e35f",
   "metadata": {},
   "outputs": [],
   "source": [
    "# Define a custom dataset class with transformations\n",
    "ImageDataset_augment <- dataset(\n",
    "  name = \"ImageDataset\",\n",
    "  initialize = function(X, y, transform = NULL) {\n",
    "    self$transform <- transform\n",
    "    self$data <- X\n",
    "    self$labels <- y\n",
    "  },\n",
    "  .getitem = function(i) {\n",
    "    # Return a single sample and label\n",
    "    x <- self$data[i,,,]\n",
    "    x <- self$transform(x)\n",
    "    y <- self$labels[i]\n",
    "    \n",
    "    list(x = x, y = y)\n",
    "  },\n",
    "  .length = function() {\n",
    "    dim(self$data)[1]\n",
    "  }\n",
    ")\n",
    "\n",
    "# Define the transformations for training data\n",
    "train_transforms <- function(img) {\n",
    "  img <- torch_squeeze(torch_tensor(img)) %>%\n",
    "    transform_color_jitter() %>%\n",
    "    transform_random_horizontal_flip() %>%\n",
    "    transform_random_vertical_flip(p = 0.5) %>%\n",
    "    torch_unsqueeze(dim = 1)\n",
    "  \n",
    "  return(img)\n",
    "}\n",
    "\n",
    "# Apply the transformations to your training dataset\n",
    "train_dataset <- ImageDataset_augment(train_X, train_y, transform = train_transforms)\n",
    "test_dataset <- ImageDataset(test_X, test_y)\n",
    "val_dataset <- ImageDataset(val_X, val_y)\n",
    "\n",
    "# Create a dataloader for training\n",
    "train_dataloader <- dataloader(train_dataset, batch_size = 16)\n",
    "test_dataloader <- dataloader(test_dataset, batch_size = 16)\n",
    "val_dataloader <- dataloader(val_dataset, batch_size = 16)\n",
    "\n",
    "# Iterate over batches of data\n",
    "batch = train_dataloader$.iter()$.next()\n",
    "\n",
    "# Visualize the first batch size\n",
    "batch[[1]]$size()"
   ]
  },
  {
   "cell_type": "markdown",
   "id": "caae0f95",
   "metadata": {},
   "source": [
    "**6_** What are the potential drawbacks or disadvantages of data augmentation?\n",
    "\n",
    "# Mobile net\n",
    "\n",
    "Transfer learning is another technique in machine learning where knowledge gained from solving one problem is applied to a different but related problem. It involves leveraging pre-trained models that have been trained on large-scale datasets and have learned general features. By utilizing transfer learning, models can benefit from the knowledge and representations learned from these pre-trained models.\n",
    "\n",
    "Torchvison provides versions of all the integrated architectures that have already been trained on the ImageNet dataset.\n",
    "\n",
    "**7_** What is ImageNet aka “ImageNet Large Scale Visual Recognition Challenge 2012”? How many images and classes does it involve? Why might this help us?\n",
    "\n",
    "MobileNet is a pre-trained model that can be effectively utilized in transfer learning scenarios. Do some research about this model.\n",
    "\n",
    "**8_** Why do you think using this architecture in this practical assignment can help to improve the results? \n",
    "Hint: See MobileNet publication\n",
    "\n",
    "**9_** How many parameters does this network have? How does this compare to better performing networks available in torch?\n",
    "\n",
    "In the following you can see an example of how we can load pre-trained models in our codes."
   ]
  },
  {
   "cell_type": "code",
   "execution_count": null,
   "id": "30b933ab",
   "metadata": {
    "lines_to_next_cell": 0
   },
   "outputs": [],
   "source": [
    "# Load the pre-trained MobileNet model\n",
    "mobilenet <- model_mobilenet_v2(pretrained = TRUE)\n",
    "\n",
    "# Modify the last fully connected layer to match your classification task\n",
    "\n",
    "#in_features <- mobilenet$classifier$in_features\n",
    "mobilenet$classifier <- nn_linear(224*224*3, 2)   # Adjust the output size based on your classification task"
   ]
  },
  {
   "cell_type": "markdown",
   "id": "6ae90cdf",
   "metadata": {},
   "source": [
    "**10_** Using the provided materials in this practical, train a different network architecture. Does this perform better?\n",
    "\n",
    "# Useful links\n",
    "https://medium.com/@kemalgunay/getting-started-with-image-preprocessing-in-r-52c7d153b381\n",
    "https://cran.r-project.org/web/packages/magick/vignettes/intro.html\n",
    "https://www.datanovia.com/en/blog/easy-image-processing-in-r-using-the-magick-package/\n",
    "https://dahtah.github.io/imager/imager.html\n",
    "https://rdrr.io/github/mlverse/torchvision/api/\n",
    "https://github.com/brandonyph/Torch-for-R-CNN-Example"
   ]
  }
 ],
 "metadata": {
  "jupytext": {
   "cell_metadata_filter": "name,warning,tags,-all",
   "main_language": "R",
   "notebook_metadata_filter": "-all"
  }
 },
 "nbformat": 4,
 "nbformat_minor": 5
}
